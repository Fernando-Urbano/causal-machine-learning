{
 "cells": [
  {
   "cell_type": "code",
   "execution_count": null,
   "metadata": {},
   "outputs": [
    {
     "name": "stderr",
     "output_type": "stream",
     "text": [
      "/opt/homebrew/anaconda3/envs/finm/lib/python3.12/site-packages/doubleml/utils/_checks.py:204: UserWarning: Propensity predictions from learner Pipeline(steps=[('poly', PolynomialFeatures(include_bias=False)),\n",
      "                ('lr', LogisticRegression(max_iter=1000, random_state=123))]) for ml_m are close to zero or one (eps=1e-12).\n",
      "  warnings.warn(f'Propensity predictions from learner {str(learner)} for'\n"
     ]
    },
    {
     "name": "stdout",
     "output_type": "stream",
     "text": [
      "Data source e=1 results:\n",
      "       coef   std err         t         P>|t|     2.5 %    97.5 %\n",
      "d  0.445511  0.030286  14.71035  5.532050e-49  0.386152  0.504869\n",
      "      2.5 %    97.5 %\n",
      "d  0.386152  0.504869\n",
      "\n",
      "Data source e=2 results:\n",
      "       coef   std err          t  P>|t|     2.5 %    97.5 %\n",
      "d  1.993791  0.022734  87.701211    0.0  1.949233  2.038348\n",
      "      2.5 %    97.5 %\n",
      "d  1.949233  2.038348\n"
     ]
    }
   ],
   "source": [
    "import pandas as pd\n",
    "import numpy as np\n",
    "import doubleml as dml\n",
    "\n",
    "from sklearn.preprocessing import PolynomialFeatures\n",
    "from sklearn.linear_model import LogisticRegression, LinearRegression\n",
    "from sklearn.ensemble import RandomForestRegressor\n",
    "from sklearn.pipeline import Pipeline\n",
    "\n",
    "q3 = pd.read_csv(\"data_for_HW4.csv\")\n",
    "\n",
    "X_cols = ['x.1', 'x.2', 'x.3', 'x.4', 'x.5']\n",
    "Y_col = 'y'\n",
    "D_col = 't'\n",
    "\n",
    "q3_1 = q3[q3['e'] == 1].copy()\n",
    "q3_2 = q3[q3['e'] == 2].copy()\n",
    "\n",
    "X_1 = q3_1[X_cols].values\n",
    "X_2 = q3_2[X_cols].values\n",
    "Y_1 = q3_1[Y_col].values\n",
    "Y_2 = q3_2[Y_col].values\n",
    "D_1 = q3_1[D_col].values\n",
    "D_2 = q3_2[D_col].values\n",
    "\n",
    "obj_dml_data_1 = dml.DoubleMLData.from_arrays(X_1, Y_1, D_1)\n",
    "obj_dml_data_2 = dml.DoubleMLData.from_arrays(X_2, Y_2, D_2)\n",
    "\n",
    "ml_g_pipeline = Pipeline([\n",
    "    ('poly', PolynomialFeatures(include_bias=False)),\n",
    "    ('rf', LinearRegression())\n",
    "])\n",
    "\n",
    "ml_m_pipeline = Pipeline([\n",
    "    ('poly', PolynomialFeatures(include_bias=False)),\n",
    "    ('lr', LogisticRegression(solver='lbfgs', max_iter=1000, random_state=123))\n",
    "])\n",
    "\n",
    "dml_plr_obj_1 = dml.DoubleMLPLR(obj_dml_data_1, ml_g_pipeline, ml_m_pipeline, score='partialling out')\n",
    "dml_plr_obj_1.fit()\n",
    "\n",
    "dml_plr_obj_2 = dml.DoubleMLPLR(obj_dml_data_2, ml_g_pipeline, ml_m_pipeline, score='partialling out')\n",
    "dml_plr_obj_2.fit()\n",
    "\n",
    "print(\"Data source e=1 results:\")\n",
    "print(dml_plr_obj_1.summary)\n",
    "print(dml_plr_obj_1.confint())\n",
    "\n",
    "print(\"\\nData source e=2 results:\")\n",
    "print(dml_plr_obj_2.summary)\n",
    "print(dml_plr_obj_2.confint())"
   ]
  },
  {
   "cell_type": "code",
   "execution_count": 11,
   "metadata": {},
   "outputs": [
    {
     "name": "stdout",
     "output_type": "stream",
     "text": [
      "       coef   std err         t         P>|t|     2.5 %    97.5 %\n",
      "d  0.445511  0.030286  14.71035  5.532050e-49  0.386152  0.504869\n"
     ]
    }
   ],
   "source": [
    "print(dml_plr_obj_1.summary)"
   ]
  }
 ],
 "metadata": {
  "kernelspec": {
   "display_name": "finm",
   "language": "python",
   "name": "python3"
  },
  "language_info": {
   "codemirror_mode": {
    "name": "ipython",
    "version": 3
   },
   "file_extension": ".py",
   "mimetype": "text/x-python",
   "name": "python",
   "nbconvert_exporter": "python",
   "pygments_lexer": "ipython3",
   "version": "3.12.5"
  }
 },
 "nbformat": 4,
 "nbformat_minor": 2
}
