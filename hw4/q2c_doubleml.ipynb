{
 "cells": [
  {
   "cell_type": "code",
   "execution_count": 4,
   "metadata": {},
   "outputs": [
    {
     "name": "stdout",
     "output_type": "stream",
     "text": [
      "DoubleML-based Doubly Robust ATE estimate: 0.12342314601251633\n",
      "Standard Error: 0.17182105633995212\n"
     ]
    },
    {
     "name": "stderr",
     "output_type": "stream",
     "text": [
      "/opt/homebrew/anaconda3/envs/finm/lib/python3.12/site-packages/doubleml/utils/_checks.py:204: UserWarning: Propensity predictions from learner RandomForestClassifier(n_estimators=500, random_state=42) for ml_m are close to zero or one (eps=1e-12).\n",
      "  warnings.warn(f'Propensity predictions from learner {str(learner)} for'\n"
     ]
    }
   ],
   "source": [
    "import pandas as pd\n",
    "import numpy as np\n",
    "from sklearn.linear_model import LogisticRegression, Lasso, LinearRegression\n",
    "from sklearn.ensemble import RandomForestClassifier, RandomForestRegressor\n",
    "from sklearn.neural_network import MLPClassifier, MLPRegressor\n",
    "import doubleml as dml\n",
    "\n",
    "#-------------------------------------------\n",
    "# Load and preprocess data\n",
    "#-------------------------------------------\n",
    "census = pd.read_csv(\"census2000.csv\")\n",
    "census.rename(columns=lambda c: c[1:] if c.startswith(' ') else c, inplace=True)\n",
    "\n",
    "# Treatment indicator: T = 1 if male, 0 if female\n",
    "census['T'] = (census['sex'] == 'M').astype(int)\n",
    "\n",
    "# Outcome: log wage = log(income/hours)\n",
    "census['wage'] = census['income'] / census['hours']\n",
    "census['Y'] = np.log(census['wage'])\n",
    "\n",
    "# Features: age, marital, race, education (converted to dummies)\n",
    "X = pd.get_dummies(census[['age','marital','race','education']], drop_first=True)\n",
    "Y = census['Y'].values\n",
    "T = census['T'].values\n",
    "\n",
    "#-------------------------------------------\n",
    "# Create DoubleMLData Object\n",
    "#-------------------------------------------\n",
    "X_np = X.values\n",
    "obj_dml_data = dml.DoubleMLData.from_arrays(X_np, Y, T)\n",
    "\n",
    "#-------------------------------------------\n",
    "# Specify Learners\n",
    "#-------------------------------------------\n",
    "# For the propensity score model (ml_m): a classifier\n",
    "propensity_model = RandomForestClassifier(n_estimators=500, random_state=42)\n",
    "\n",
    "# For the outcome model (ml_g): a regressor\n",
    "outcome_model = RandomForestRegressor(n_estimators=500, random_state=42)\n",
    "\n",
    "#-------------------------------------------\n",
    "# Initialize DoubleMLIRM for Binary Treatment DR Estimation\n",
    "#-------------------------------------------\n",
    "dml_irm = dml.DoubleMLIRM(\n",
    "    obj_dml_data,\n",
    "    ml_g=outcome_model,\n",
    "    ml_m=propensity_model,\n",
    "    n_folds=2,   # corresponds to cross-fitting folds\n",
    "    score='ATE'  # default IRM score estimates ATE; this is a doubly robust score\n",
    ")\n",
    "\n",
    "# Fit the DoubleML model\n",
    "dml_irm.fit()\n",
    "\n",
    "# Extract the estimated treatment effect (ATE)\n",
    "tau_DR = dml_irm.coef[0]\n",
    "tau_se = dml_irm.se[0]\n",
    "\n",
    "print(\"DoubleML-based Doubly Robust ATE estimate:\", tau_DR)\n",
    "print(\"Standard Error:\", tau_se)\n",
    "\n",
    "# If you also want to try different ML methods:\n",
    "# e.g. logistic regression for p(x) and linear regression for mu0(x):\n",
    "# ml_g_lin = LinearRegression()\n",
    "# ml_m_logistic = LogisticRegression(max_iter=1000)\n",
    "# dml_irm_lin = dml.DoubleMLIRM(obj_dml_data, ml_g_lin, ml_m_logistic, n_folds=2)\n",
    "# dml_irm_lin.fit()\n",
    "# print(\"DoubleML with linear/logistic:\", dml_irm_lin.coef[0])"
   ]
  }
 ],
 "metadata": {
  "kernelspec": {
   "display_name": "finm",
   "language": "python",
   "name": "python3"
  },
  "language_info": {
   "codemirror_mode": {
    "name": "ipython",
    "version": 3
   },
   "file_extension": ".py",
   "mimetype": "text/x-python",
   "name": "python",
   "nbconvert_exporter": "python",
   "pygments_lexer": "ipython3",
   "version": "3.12.5"
  }
 },
 "nbformat": 4,
 "nbformat_minor": 2
}
